{
 "cells": [
  {
   "cell_type": "markdown",
   "id": "c760274d",
   "metadata": {},
   "source": [
    "### Importing Basic Liabraries"
   ]
  },
  {
   "cell_type": "code",
   "execution_count": 1,
   "id": "cdd00c2e",
   "metadata": {
    "tags": []
   },
   "outputs": [],
   "source": [
    "import pandas as pd\n",
    "import numpy as np\n",
    "import matplotlib.pyplot as plt\n",
    "import seaborn as sns\n",
    "pd.set_option('display.max_columns', None)\n",
    "sns.set()\n",
    "%matplotlib inline"
   ]
  },
  {
   "cell_type": "markdown",
   "id": "1ded1b91",
   "metadata": {},
   "source": [
    "### Importing Data"
   ]
  },
  {
   "cell_type": "code",
   "execution_count": 2,
   "id": "f12e70e2",
   "metadata": {
    "tags": []
   },
   "outputs": [
    {
     "data": {
      "text/html": [
       "<div>\n",
       "<style scoped>\n",
       "    .dataframe tbody tr th:only-of-type {\n",
       "        vertical-align: middle;\n",
       "    }\n",
       "\n",
       "    .dataframe tbody tr th {\n",
       "        vertical-align: top;\n",
       "    }\n",
       "\n",
       "    .dataframe thead th {\n",
       "        text-align: right;\n",
       "    }\n",
       "</style>\n",
       "<table border=\"1\" class=\"dataframe\">\n",
       "  <thead>\n",
       "    <tr style=\"text-align: right;\">\n",
       "      <th></th>\n",
       "      <th>App Name</th>\n",
       "      <th>App Id</th>\n",
       "      <th>Category</th>\n",
       "      <th>Rating</th>\n",
       "      <th>Rating Count</th>\n",
       "      <th>Installs</th>\n",
       "      <th>Minimum Installs</th>\n",
       "      <th>Maximum Installs</th>\n",
       "      <th>Free</th>\n",
       "      <th>Price</th>\n",
       "      <th>Currency</th>\n",
       "      <th>Size</th>\n",
       "      <th>Minimum Android</th>\n",
       "      <th>Developer Id</th>\n",
       "      <th>Developer Website</th>\n",
       "      <th>Developer Email</th>\n",
       "      <th>Released</th>\n",
       "      <th>Last Updated</th>\n",
       "      <th>Content Rating</th>\n",
       "      <th>Privacy Policy</th>\n",
       "      <th>Ad Supported</th>\n",
       "      <th>In App Purchases</th>\n",
       "      <th>Editors Choice</th>\n",
       "      <th>Scraped Time</th>\n",
       "    </tr>\n",
       "  </thead>\n",
       "  <tbody>\n",
       "    <tr>\n",
       "      <th>0</th>\n",
       "      <td>Gakondo</td>\n",
       "      <td>com.ishakwe.gakondo</td>\n",
       "      <td>Adventure</td>\n",
       "      <td>0.0</td>\n",
       "      <td>0.0</td>\n",
       "      <td>10+</td>\n",
       "      <td>10.0</td>\n",
       "      <td>15</td>\n",
       "      <td>True</td>\n",
       "      <td>0.0</td>\n",
       "      <td>USD</td>\n",
       "      <td>10M</td>\n",
       "      <td>7.1 and up</td>\n",
       "      <td>Jean Confident Irénée NIYIZIBYOSE</td>\n",
       "      <td>https://beniyizibyose.tk/#/</td>\n",
       "      <td>jean21101999@gmail.com</td>\n",
       "      <td>Feb 26, 2020</td>\n",
       "      <td>Feb 26, 2020</td>\n",
       "      <td>Everyone</td>\n",
       "      <td>https://beniyizibyose.tk/projects/</td>\n",
       "      <td>False</td>\n",
       "      <td>False</td>\n",
       "      <td>False</td>\n",
       "      <td>2021-06-15 20:19:35</td>\n",
       "    </tr>\n",
       "    <tr>\n",
       "      <th>1</th>\n",
       "      <td>Ampere Battery Info</td>\n",
       "      <td>com.webserveis.batteryinfo</td>\n",
       "      <td>Tools</td>\n",
       "      <td>4.4</td>\n",
       "      <td>64.0</td>\n",
       "      <td>5,000+</td>\n",
       "      <td>5000.0</td>\n",
       "      <td>7662</td>\n",
       "      <td>True</td>\n",
       "      <td>0.0</td>\n",
       "      <td>USD</td>\n",
       "      <td>2.9M</td>\n",
       "      <td>5.0 and up</td>\n",
       "      <td>Webserveis</td>\n",
       "      <td>https://webserveis.netlify.app/</td>\n",
       "      <td>webserveis@gmail.com</td>\n",
       "      <td>May 21, 2020</td>\n",
       "      <td>May 06, 2021</td>\n",
       "      <td>Everyone</td>\n",
       "      <td>https://dev4phones.wordpress.com/licencia-de-uso/</td>\n",
       "      <td>True</td>\n",
       "      <td>False</td>\n",
       "      <td>False</td>\n",
       "      <td>2021-06-15 20:19:35</td>\n",
       "    </tr>\n",
       "    <tr>\n",
       "      <th>2</th>\n",
       "      <td>Vibook</td>\n",
       "      <td>com.doantiepvien.crm</td>\n",
       "      <td>Productivity</td>\n",
       "      <td>0.0</td>\n",
       "      <td>0.0</td>\n",
       "      <td>50+</td>\n",
       "      <td>50.0</td>\n",
       "      <td>58</td>\n",
       "      <td>True</td>\n",
       "      <td>0.0</td>\n",
       "      <td>USD</td>\n",
       "      <td>3.7M</td>\n",
       "      <td>4.0.3 and up</td>\n",
       "      <td>Cabin Crew</td>\n",
       "      <td>NaN</td>\n",
       "      <td>vnacrewit@gmail.com</td>\n",
       "      <td>Aug 9, 2019</td>\n",
       "      <td>Aug 19, 2019</td>\n",
       "      <td>Everyone</td>\n",
       "      <td>https://www.vietnamairlines.com/vn/en/terms-an...</td>\n",
       "      <td>False</td>\n",
       "      <td>False</td>\n",
       "      <td>False</td>\n",
       "      <td>2021-06-15 20:19:35</td>\n",
       "    </tr>\n",
       "    <tr>\n",
       "      <th>3</th>\n",
       "      <td>Smart City Trichy Public Service Vehicles 17UC...</td>\n",
       "      <td>cst.stJoseph.ug17ucs548</td>\n",
       "      <td>Communication</td>\n",
       "      <td>5.0</td>\n",
       "      <td>5.0</td>\n",
       "      <td>10+</td>\n",
       "      <td>10.0</td>\n",
       "      <td>19</td>\n",
       "      <td>True</td>\n",
       "      <td>0.0</td>\n",
       "      <td>USD</td>\n",
       "      <td>1.8M</td>\n",
       "      <td>4.0.3 and up</td>\n",
       "      <td>Climate Smart Tech2</td>\n",
       "      <td>http://www.climatesmarttech.com/</td>\n",
       "      <td>climatesmarttech2@gmail.com</td>\n",
       "      <td>Sep 10, 2018</td>\n",
       "      <td>Oct 13, 2018</td>\n",
       "      <td>Everyone</td>\n",
       "      <td>NaN</td>\n",
       "      <td>True</td>\n",
       "      <td>False</td>\n",
       "      <td>False</td>\n",
       "      <td>2021-06-15 20:19:35</td>\n",
       "    </tr>\n",
       "    <tr>\n",
       "      <th>4</th>\n",
       "      <td>GROW.me</td>\n",
       "      <td>com.horodyski.grower</td>\n",
       "      <td>Tools</td>\n",
       "      <td>0.0</td>\n",
       "      <td>0.0</td>\n",
       "      <td>100+</td>\n",
       "      <td>100.0</td>\n",
       "      <td>478</td>\n",
       "      <td>True</td>\n",
       "      <td>0.0</td>\n",
       "      <td>USD</td>\n",
       "      <td>6.2M</td>\n",
       "      <td>4.1 and up</td>\n",
       "      <td>Rafal Milek-Horodyski</td>\n",
       "      <td>http://www.horodyski.com.pl</td>\n",
       "      <td>rmilekhorodyski@gmail.com</td>\n",
       "      <td>Feb 21, 2020</td>\n",
       "      <td>Nov 12, 2018</td>\n",
       "      <td>Everyone</td>\n",
       "      <td>http://www.horodyski.com.pl</td>\n",
       "      <td>False</td>\n",
       "      <td>False</td>\n",
       "      <td>False</td>\n",
       "      <td>2021-06-15 20:19:35</td>\n",
       "    </tr>\n",
       "  </tbody>\n",
       "</table>\n",
       "</div>"
      ],
      "text/plain": [
       "                                            App Name  \\\n",
       "0                                            Gakondo   \n",
       "1                                Ampere Battery Info   \n",
       "2                                             Vibook   \n",
       "3  Smart City Trichy Public Service Vehicles 17UC...   \n",
       "4                                            GROW.me   \n",
       "\n",
       "                       App Id       Category  Rating  Rating Count Installs  \\\n",
       "0         com.ishakwe.gakondo      Adventure     0.0           0.0      10+   \n",
       "1  com.webserveis.batteryinfo          Tools     4.4          64.0   5,000+   \n",
       "2        com.doantiepvien.crm   Productivity     0.0           0.0      50+   \n",
       "3     cst.stJoseph.ug17ucs548  Communication     5.0           5.0      10+   \n",
       "4        com.horodyski.grower          Tools     0.0           0.0     100+   \n",
       "\n",
       "   Minimum Installs  Maximum Installs  Free  Price Currency  Size  \\\n",
       "0              10.0                15  True    0.0      USD   10M   \n",
       "1            5000.0              7662  True    0.0      USD  2.9M   \n",
       "2              50.0                58  True    0.0      USD  3.7M   \n",
       "3              10.0                19  True    0.0      USD  1.8M   \n",
       "4             100.0               478  True    0.0      USD  6.2M   \n",
       "\n",
       "  Minimum Android                       Developer Id  \\\n",
       "0      7.1 and up  Jean Confident Irénée NIYIZIBYOSE   \n",
       "1      5.0 and up                         Webserveis   \n",
       "2    4.0.3 and up                         Cabin Crew   \n",
       "3    4.0.3 and up                Climate Smart Tech2   \n",
       "4      4.1 and up              Rafal Milek-Horodyski   \n",
       "\n",
       "                  Developer Website              Developer Email  \\\n",
       "0       https://beniyizibyose.tk/#/       jean21101999@gmail.com   \n",
       "1   https://webserveis.netlify.app/         webserveis@gmail.com   \n",
       "2                               NaN          vnacrewit@gmail.com   \n",
       "3  http://www.climatesmarttech.com/  climatesmarttech2@gmail.com   \n",
       "4       http://www.horodyski.com.pl    rmilekhorodyski@gmail.com   \n",
       "\n",
       "       Released  Last Updated Content Rating  \\\n",
       "0  Feb 26, 2020  Feb 26, 2020       Everyone   \n",
       "1  May 21, 2020  May 06, 2021       Everyone   \n",
       "2   Aug 9, 2019  Aug 19, 2019       Everyone   \n",
       "3  Sep 10, 2018  Oct 13, 2018       Everyone   \n",
       "4  Feb 21, 2020  Nov 12, 2018       Everyone   \n",
       "\n",
       "                                      Privacy Policy  Ad Supported  \\\n",
       "0                 https://beniyizibyose.tk/projects/         False   \n",
       "1  https://dev4phones.wordpress.com/licencia-de-uso/          True   \n",
       "2  https://www.vietnamairlines.com/vn/en/terms-an...         False   \n",
       "3                                                NaN          True   \n",
       "4                        http://www.horodyski.com.pl         False   \n",
       "\n",
       "   In App Purchases  Editors Choice         Scraped Time  \n",
       "0             False           False  2021-06-15 20:19:35  \n",
       "1             False           False  2021-06-15 20:19:35  \n",
       "2             False           False  2021-06-15 20:19:35  \n",
       "3             False           False  2021-06-15 20:19:35  \n",
       "4             False           False  2021-06-15 20:19:35  "
      ]
     },
     "execution_count": 2,
     "metadata": {},
     "output_type": "execute_result"
    }
   ],
   "source": [
    "df = pd.read_csv('Google-Playstore.csv')\n",
    "df.head()"
   ]
  },
  {
   "cell_type": "markdown",
   "id": "7256c1c1",
   "metadata": {},
   "source": [
    "### Data UnderStanding"
   ]
  },
  {
   "cell_type": "code",
   "execution_count": 3,
   "id": "7f786aff",
   "metadata": {
    "tags": []
   },
   "outputs": [
    {
     "data": {
      "text/plain": [
       "(2312944, 24)"
      ]
     },
     "execution_count": 3,
     "metadata": {},
     "output_type": "execute_result"
    }
   ],
   "source": [
    "df.shape"
   ]
  },
  {
   "cell_type": "code",
   "execution_count": 4,
   "id": "5ccad0b0",
   "metadata": {
    "tags": []
   },
   "outputs": [
    {
     "data": {
      "text/plain": [
       "Index(['App Name', 'App Id', 'Category', 'Rating', 'Rating Count', 'Installs',\n",
       "       'Minimum Installs', 'Maximum Installs', 'Free', 'Price', 'Currency',\n",
       "       'Size', 'Minimum Android', 'Developer Id', 'Developer Website',\n",
       "       'Developer Email', 'Released', 'Last Updated', 'Content Rating',\n",
       "       'Privacy Policy', 'Ad Supported', 'In App Purchases', 'Editors Choice',\n",
       "       'Scraped Time'],\n",
       "      dtype='object')"
      ]
     },
     "execution_count": 4,
     "metadata": {},
     "output_type": "execute_result"
    }
   ],
   "source": [
    "df.columns"
   ]
  },
  {
   "cell_type": "code",
   "execution_count": 5,
   "id": "3e8ff7b6",
   "metadata": {
    "tags": []
   },
   "outputs": [
    {
     "data": {
      "text/html": [
       "<div>\n",
       "<style scoped>\n",
       "    .dataframe tbody tr th:only-of-type {\n",
       "        vertical-align: middle;\n",
       "    }\n",
       "\n",
       "    .dataframe tbody tr th {\n",
       "        vertical-align: top;\n",
       "    }\n",
       "\n",
       "    .dataframe thead th {\n",
       "        text-align: right;\n",
       "    }\n",
       "</style>\n",
       "<table border=\"1\" class=\"dataframe\">\n",
       "  <thead>\n",
       "    <tr style=\"text-align: right;\">\n",
       "      <th></th>\n",
       "      <th>Rating</th>\n",
       "      <th>Rating Count</th>\n",
       "      <th>Minimum Installs</th>\n",
       "      <th>Maximum Installs</th>\n",
       "      <th>Price</th>\n",
       "    </tr>\n",
       "  </thead>\n",
       "  <tbody>\n",
       "    <tr>\n",
       "      <th>count</th>\n",
       "      <td>2.290061e+06</td>\n",
       "      <td>2.290061e+06</td>\n",
       "      <td>2.312837e+06</td>\n",
       "      <td>2.312944e+06</td>\n",
       "      <td>2.312944e+06</td>\n",
       "    </tr>\n",
       "    <tr>\n",
       "      <th>mean</th>\n",
       "      <td>2.203152e+00</td>\n",
       "      <td>2.864839e+03</td>\n",
       "      <td>1.834452e+05</td>\n",
       "      <td>3.202017e+05</td>\n",
       "      <td>1.034992e-01</td>\n",
       "    </tr>\n",
       "    <tr>\n",
       "      <th>std</th>\n",
       "      <td>2.106223e+00</td>\n",
       "      <td>2.121626e+05</td>\n",
       "      <td>1.513144e+07</td>\n",
       "      <td>2.355495e+07</td>\n",
       "      <td>2.633127e+00</td>\n",
       "    </tr>\n",
       "    <tr>\n",
       "      <th>min</th>\n",
       "      <td>0.000000e+00</td>\n",
       "      <td>0.000000e+00</td>\n",
       "      <td>0.000000e+00</td>\n",
       "      <td>0.000000e+00</td>\n",
       "      <td>0.000000e+00</td>\n",
       "    </tr>\n",
       "    <tr>\n",
       "      <th>25%</th>\n",
       "      <td>0.000000e+00</td>\n",
       "      <td>0.000000e+00</td>\n",
       "      <td>5.000000e+01</td>\n",
       "      <td>8.400000e+01</td>\n",
       "      <td>0.000000e+00</td>\n",
       "    </tr>\n",
       "    <tr>\n",
       "      <th>50%</th>\n",
       "      <td>2.900000e+00</td>\n",
       "      <td>6.000000e+00</td>\n",
       "      <td>5.000000e+02</td>\n",
       "      <td>6.950000e+02</td>\n",
       "      <td>0.000000e+00</td>\n",
       "    </tr>\n",
       "    <tr>\n",
       "      <th>75%</th>\n",
       "      <td>4.300000e+00</td>\n",
       "      <td>4.200000e+01</td>\n",
       "      <td>5.000000e+03</td>\n",
       "      <td>7.354000e+03</td>\n",
       "      <td>0.000000e+00</td>\n",
       "    </tr>\n",
       "    <tr>\n",
       "      <th>max</th>\n",
       "      <td>5.000000e+00</td>\n",
       "      <td>1.385576e+08</td>\n",
       "      <td>1.000000e+10</td>\n",
       "      <td>1.205763e+10</td>\n",
       "      <td>4.000000e+02</td>\n",
       "    </tr>\n",
       "  </tbody>\n",
       "</table>\n",
       "</div>"
      ],
      "text/plain": [
       "             Rating  Rating Count  Minimum Installs  Maximum Installs  \\\n",
       "count  2.290061e+06  2.290061e+06      2.312837e+06      2.312944e+06   \n",
       "mean   2.203152e+00  2.864839e+03      1.834452e+05      3.202017e+05   \n",
       "std    2.106223e+00  2.121626e+05      1.513144e+07      2.355495e+07   \n",
       "min    0.000000e+00  0.000000e+00      0.000000e+00      0.000000e+00   \n",
       "25%    0.000000e+00  0.000000e+00      5.000000e+01      8.400000e+01   \n",
       "50%    2.900000e+00  6.000000e+00      5.000000e+02      6.950000e+02   \n",
       "75%    4.300000e+00  4.200000e+01      5.000000e+03      7.354000e+03   \n",
       "max    5.000000e+00  1.385576e+08      1.000000e+10      1.205763e+10   \n",
       "\n",
       "              Price  \n",
       "count  2.312944e+06  \n",
       "mean   1.034992e-01  \n",
       "std    2.633127e+00  \n",
       "min    0.000000e+00  \n",
       "25%    0.000000e+00  \n",
       "50%    0.000000e+00  \n",
       "75%    0.000000e+00  \n",
       "max    4.000000e+02  "
      ]
     },
     "execution_count": 5,
     "metadata": {},
     "output_type": "execute_result"
    }
   ],
   "source": [
    "df.describe()"
   ]
  },
  {
   "cell_type": "markdown",
   "id": "8c8b74d0",
   "metadata": {},
   "source": [
    "#### Observation:\n",
    "- We have 5 Numerical columns"
   ]
  },
  {
   "cell_type": "code",
   "execution_count": 6,
   "id": "924e77a0",
   "metadata": {
    "tags": []
   },
   "outputs": [
    {
     "name": "stdout",
     "output_type": "stream",
     "text": [
      "<class 'pandas.core.frame.DataFrame'>\n",
      "RangeIndex: 2312944 entries, 0 to 2312943\n",
      "Data columns (total 24 columns):\n",
      " #   Column             Dtype  \n",
      "---  ------             -----  \n",
      " 0   App Name           object \n",
      " 1   App Id             object \n",
      " 2   Category           object \n",
      " 3   Rating             float64\n",
      " 4   Rating Count       float64\n",
      " 5   Installs           object \n",
      " 6   Minimum Installs   float64\n",
      " 7   Maximum Installs   int64  \n",
      " 8   Free               bool   \n",
      " 9   Price              float64\n",
      " 10  Currency           object \n",
      " 11  Size               object \n",
      " 12  Minimum Android    object \n",
      " 13  Developer Id       object \n",
      " 14  Developer Website  object \n",
      " 15  Developer Email    object \n",
      " 16  Released           object \n",
      " 17  Last Updated       object \n",
      " 18  Content Rating     object \n",
      " 19  Privacy Policy     object \n",
      " 20  Ad Supported       bool   \n",
      " 21  In App Purchases   bool   \n",
      " 22  Editors Choice     bool   \n",
      " 23  Scraped Time       object \n",
      "dtypes: bool(4), float64(4), int64(1), object(15)\n",
      "memory usage: 361.8+ MB\n"
     ]
    }
   ],
   "source": [
    "df.info()"
   ]
  },
  {
   "cell_type": "markdown",
   "id": "ccee042b",
   "metadata": {},
   "source": [
    "### Exploratory Data Analysis"
   ]
  },
  {
   "cell_type": "code",
   "execution_count": 7,
   "id": "782d3d55",
   "metadata": {
    "tags": []
   },
   "outputs": [
    {
     "data": {
      "text/plain": [
       "App Name                  2\n",
       "App Id                    0\n",
       "Category                  0\n",
       "Rating                22883\n",
       "Rating Count          22883\n",
       "Installs                107\n",
       "Minimum Installs        107\n",
       "Maximum Installs          0\n",
       "Free                      0\n",
       "Price                     0\n",
       "Currency                135\n",
       "Size                    196\n",
       "Minimum Android        6530\n",
       "Developer Id             33\n",
       "Developer Website    760835\n",
       "Developer Email          31\n",
       "Released              71053\n",
       "Last Updated              0\n",
       "Content Rating            0\n",
       "Privacy Policy       420953\n",
       "Ad Supported              0\n",
       "In App Purchases          0\n",
       "Editors Choice            0\n",
       "Scraped Time              0\n",
       "dtype: int64"
      ]
     },
     "execution_count": 7,
     "metadata": {},
     "output_type": "execute_result"
    }
   ],
   "source": [
    "### Checking Null values\n",
    "df.isnull().sum()"
   ]
  },
  {
   "cell_type": "code",
   "execution_count": 11,
   "id": "1976f400",
   "metadata": {
    "tags": []
   },
   "outputs": [
    {
     "data": {
      "text/plain": [
       "Developer Website    3.289466e-01\n",
       "Privacy Policy       1.819988e-01\n",
       "Released             3.071972e-02\n",
       "Rating               9.893452e-03\n",
       "Rating Count         9.893452e-03\n",
       "Minimum Android      2.823242e-03\n",
       "Size                 8.474049e-05\n",
       "Currency             5.836717e-05\n",
       "Installs             4.626139e-05\n",
       "Minimum Installs     4.626139e-05\n",
       "Developer Id         1.426753e-05\n",
       "Developer Email      1.340283e-05\n",
       "App Name             8.646988e-07\n",
       "App Id               0.000000e+00\n",
       "Price                0.000000e+00\n",
       "Free                 0.000000e+00\n",
       "Maximum Installs     0.000000e+00\n",
       "Last Updated         0.000000e+00\n",
       "Content Rating       0.000000e+00\n",
       "Category             0.000000e+00\n",
       "Ad Supported         0.000000e+00\n",
       "In App Purchases     0.000000e+00\n",
       "Editors Choice       0.000000e+00\n",
       "Scraped Time         0.000000e+00\n",
       "dtype: float64"
      ]
     },
     "execution_count": 11,
     "metadata": {},
     "output_type": "execute_result"
    }
   ],
   "source": [
    "## Checking the Percentage of missing Values\n",
    "missing_values = (df.isnull().sum() / len(df)).sort_values(ascending=False)\n",
    "missing_values"
   ]
  },
  {
   "cell_type": "markdown",
   "id": "5d086333-871d-47e6-9754-40d122e51fbb",
   "metadata": {},
   "source": [
    "### Let's plot the missing percentage of null values:"
   ]
  },
  {
   "cell_type": "code",
   "execution_count": 18,
   "id": "0b124141-f1ed-4577-be20-a2b9fe5ff81f",
   "metadata": {
    "tags": []
   },
   "outputs": [
    {
     "data": {
      "image/png": "[encoded data removed]",
      "text/plain": [
       "<Figure size 1400x1000 with 1 Axes>"
      ]
     },
     "metadata": {},
     "output_type": "display_data"
    }
   ],
   "source": [
    "missing_values = missing_values[missing_values != 0]\n",
    "plt.figure(figsize=(14,10))\n",
    "ax = sns.barplot(x = missing_values.values, y = missing_values.index)\n",
    "for container in ax.containers:\n",
    "    ax.bar_label(container)\n",
    "plt.title(\"Missig percentage of null values\")\n",
    "plt.xlabel(\"Percentage\")\n",
    "plt.ylabel(\"Columns\")\n",
    "plt.show()"
   ]
  },
  {
   "cell_type": "markdown",
   "id": "a5ad4c14-e650-4cbe-8f5b-8296c5cd4062",
   "metadata": {},
   "source": [
    "### Observation:\n",
    "1. This columns with highest null values are:\n",
    "- Developer Website\n",
    "- Privacy Policy\n",
    "There two are not that much helpful so if we want we can drop these columns.\n",
    "\n",
    "2. We can drop the small null values for the columns\n",
    "- Size\n",
    "- Currency\n",
    "- Installs\n",
    "- Minimum Installs\n",
    "- Developer Id\n",
    "- Developer Email\n",
    "\n",
    "3. Rating, Rating count, Released are important column so it is good to fill the null values.\n",
    "- Rating\n",
    "- Rating count\n",
    "- Minimum Andriod\n",
    "- Released"
   ]
  },
  {
   "cell_type": "markdown",
   "id": "6132a9ad-8c85-44df-8aad-6257c37bbbf2",
   "metadata": {},
   "source": [
    "### Droping the null values from columns which have less null values:"
   ]
  },
  {
   "cell_type": "code",
   "execution_count": 19,
   "id": "3011ab03-a2d2-4a48-b0ce-da08fdf14929",
   "metadata": {
    "tags": []
   },
   "outputs": [],
   "source": [
    "df.dropna(subset = ['Size','App Name','Currency','Installs','Minimum Installs','Developer Id','Developer Email'],inplace=True)"
   ]
  },
  {
   "cell_type": "code",
   "execution_count": 20,
   "id": "faa6f7cf-6667-4503-88e7-ab62f6167b89",
   "metadata": {
    "tags": []
   },
   "outputs": [
    {
     "data": {
      "text/plain": [
       "App Name                  0\n",
       "App Id                    0\n",
       "Category                  0\n",
       "Rating                22572\n",
       "Rating Count          22572\n",
       "Installs                  0\n",
       "Minimum Installs          0\n",
       "Maximum Installs          0\n",
       "Free                      0\n",
       "Price                     0\n",
       "Currency                  0\n",
       "Size                      0\n",
       "Minimum Android        6530\n",
       "Developer Id              0\n",
       "Developer Website    760716\n",
       "Developer Email           0\n",
       "Released              70748\n",
       "Last Updated              0\n",
       "Content Rating            0\n",
       "Privacy Policy       420845\n",
       "Ad Supported              0\n",
       "In App Purchases          0\n",
       "Editors Choice            0\n",
       "Scraped Time              0\n",
       "dtype: int64"
      ]
     },
     "execution_count": 20,
     "metadata": {},
     "output_type": "execute_result"
    }
   ],
   "source": [
    "df.isnull().sum()"
   ]
  },
  {
   "cell_type": "markdown",
   "id": "7d55e46b-b211-4386-8fda-db53061449fb",
   "metadata": {},
   "source": [
    "### Cleaning the Remaining Columns that are important:"
   ]
  },
  {
   "cell_type": "markdown",
   "id": "17def13f-8d64-4496-9552-ce3f73ac26d5",
   "metadata": {},
   "source": [
    "- #### Checking Duplicates:"
   ]
  },
  {
   "cell_type": "code",
   "execution_count": 26,
   "id": "ec574420-98dd-49e1-800d-7e851ee4d692",
   "metadata": {
    "tags": []
   },
   "outputs": [
    {
     "data": {
      "text/plain": [
       "134955"
      ]
     },
     "execution_count": 26,
     "metadata": {},
     "output_type": "execute_result"
    }
   ],
   "source": [
    "df['App Name'].duplicated().sum()"
   ]
  },
  {
   "cell_type": "markdown",
   "id": "846f43b9-8b17-49f5-9cd5-fd96ac1d898e",
   "metadata": {},
   "source": [
    "- So there are alot of apps with same name."
   ]
  },
  {
   "cell_type": "code",
   "execution_count": 27,
   "id": "36d20671-e7a4-4a07-ac02-e83319ff405f",
   "metadata": {
    "tags": []
   },
   "outputs": [
    {
     "data": {
      "text/plain": [
       "Tic Tac Toe                     382\n",
       "Calculator                      261\n",
       "Flashlight                      256\n",
       "BMI Calculator                  201\n",
       "Age Calculator                  190\n",
       "                               ... \n",
       "Foodiz Resto                      1\n",
       "Astra OtoReward                   1\n",
       "MedTerm Dictionary                1\n",
       "Urban garden and sowing.          1\n",
       "Biliyor Musun - Sonsuz Yarış      1\n",
       "Name: App Name, Length: 2177593, dtype: int64"
      ]
     },
     "execution_count": 27,
     "metadata": {},
     "output_type": "execute_result"
    }
   ],
   "source": [
    "df['App Name'].value_counts()"
   ]
  },
  {
   "cell_type": "markdown",
   "id": "be00de7b-902f-4fac-84f3-509c5a86e806",
   "metadata": {},
   "source": [
    "- Let's see the data of these apps are same or not."
   ]
  },
  {
   "cell_type": "code",
   "execution_count": 28,
   "id": "b72206f6-a793-4ea0-b51a-f12c37bca4d4",
   "metadata": {
    "tags": []
   },
   "outputs": [
    {
     "data": {
      "text/html": [
       "<div>\n",
       "<style scoped>\n",
       "    .dataframe tbody tr th:only-of-type {\n",
       "        vertical-align: middle;\n",
       "    }\n",
       "\n",
       "    .dataframe tbody tr th {\n",
       "        vertical-align: top;\n",
       "    }\n",
       "\n",
       "    .dataframe thead th {\n",
       "        text-align: right;\n",
       "    }\n",
       "</style>\n",
       "<table border=\"1\" class=\"dataframe\">\n",
       "  <thead>\n",
       "    <tr style=\"text-align: right;\">\n",
       "      <th></th>\n",
       "      <th>App Name</th>\n",
       "      <th>App Id</th>\n",
       "      <th>Category</th>\n",
       "      <th>Rating</th>\n",
       "      <th>Rating Count</th>\n",
       "      <th>Installs</th>\n",
       "      <th>Minimum Installs</th>\n",
       "      <th>Maximum Installs</th>\n",
       "      <th>Free</th>\n",
       "      <th>Price</th>\n",
       "      <th>Currency</th>\n",
       "      <th>Size</th>\n",
       "      <th>Minimum Android</th>\n",
       "      <th>Developer Id</th>\n",
       "      <th>Developer Website</th>\n",
       "      <th>Developer Email</th>\n",
       "      <th>Released</th>\n",
       "      <th>Last Updated</th>\n",
       "      <th>Content Rating</th>\n",
       "      <th>Privacy Policy</th>\n",
       "      <th>Ad Supported</th>\n",
       "      <th>In App Purchases</th>\n",
       "      <th>Editors Choice</th>\n",
       "      <th>Scraped Time</th>\n",
       "    </tr>\n",
       "  </thead>\n",
       "  <tbody>\n",
       "    <tr>\n",
       "      <th>3918</th>\n",
       "      <td>Tic Tac Toe</td>\n",
       "      <td>com.dev.atte.tic_tac_toe</td>\n",
       "      <td>Puzzle</td>\n",
       "      <td>0.0</td>\n",
       "      <td>0.0</td>\n",
       "      <td>10+</td>\n",
       "      <td>10.0</td>\n",
       "      <td>30</td>\n",
       "      <td>True</td>\n",
       "      <td>0.0</td>\n",
       "      <td>USD</td>\n",
       "      <td>3.4M</td>\n",
       "      <td>4.0 and up</td>\n",
       "      <td>ATTE AKA FRANCOIS</td>\n",
       "      <td>https://ne2ad32ee.app-ads-txt.com</td>\n",
       "      <td>dev.atte.francois@gmail.com</td>\n",
       "      <td>May 18, 2018</td>\n",
       "      <td>May 18, 2018</td>\n",
       "      <td>Everyone</td>\n",
       "      <td>NaN</td>\n",
       "      <td>True</td>\n",
       "      <td>False</td>\n",
       "      <td>False</td>\n",
       "      <td>2021-06-15 20:23:22</td>\n",
       "    </tr>\n",
       "    <tr>\n",
       "      <th>13758</th>\n",
       "      <td>Tic Tac Toe</td>\n",
       "      <td>com.md.tictactoe</td>\n",
       "      <td>Board</td>\n",
       "      <td>0.0</td>\n",
       "      <td>0.0</td>\n",
       "      <td>10+</td>\n",
       "      <td>10.0</td>\n",
       "      <td>31</td>\n",
       "      <td>True</td>\n",
       "      <td>0.0</td>\n",
       "      <td>USD</td>\n",
       "      <td>34M</td>\n",
       "      <td>4.3 and up</td>\n",
       "      <td>Smart Digital Tools</td>\n",
       "      <td>NaN</td>\n",
       "      <td>msms.zaman@gmail.com</td>\n",
       "      <td>Nov 2, 2020</td>\n",
       "      <td>Nov 18, 2020</td>\n",
       "      <td>Everyone</td>\n",
       "      <td>https://smartdailytools.blogspot.com/2020/09/p...</td>\n",
       "      <td>True</td>\n",
       "      <td>False</td>\n",
       "      <td>False</td>\n",
       "      <td>2021-06-15 20:32:58</td>\n",
       "    </tr>\n",
       "    <tr>\n",
       "      <th>25351</th>\n",
       "      <td>Tic Tac Toe</td>\n",
       "      <td>com.sthirumuru.tictactoenew</td>\n",
       "      <td>Board</td>\n",
       "      <td>4.2</td>\n",
       "      <td>11.0</td>\n",
       "      <td>5,000+</td>\n",
       "      <td>5000.0</td>\n",
       "      <td>6379</td>\n",
       "      <td>True</td>\n",
       "      <td>0.0</td>\n",
       "      <td>USD</td>\n",
       "      <td>7.4M</td>\n",
       "      <td>7.0 and up</td>\n",
       "      <td>Sundeep Reddy Thirumuru</td>\n",
       "      <td>NaN</td>\n",
       "      <td>sundeep.thirumuru@gmail.com</td>\n",
       "      <td>Apr 13, 2021</td>\n",
       "      <td>Jun 03, 2021</td>\n",
       "      <td>Everyone</td>\n",
       "      <td>NaN</td>\n",
       "      <td>True</td>\n",
       "      <td>False</td>\n",
       "      <td>False</td>\n",
       "      <td>2021-06-15 20:44:27</td>\n",
       "    </tr>\n",
       "    <tr>\n",
       "      <th>28142</th>\n",
       "      <td>Tic Tac Toe</td>\n",
       "      <td>com.fsk00x.TicTacToe</td>\n",
       "      <td>Board</td>\n",
       "      <td>0.0</td>\n",
       "      <td>0.0</td>\n",
       "      <td>500+</td>\n",
       "      <td>500.0</td>\n",
       "      <td>922</td>\n",
       "      <td>True</td>\n",
       "      <td>0.0</td>\n",
       "      <td>USD</td>\n",
       "      <td>8.6M</td>\n",
       "      <td>4.1 and up</td>\n",
       "      <td>SteadFast Games</td>\n",
       "      <td>NaN</td>\n",
       "      <td>devmethyl@outlook.com</td>\n",
       "      <td>Feb 13, 2020</td>\n",
       "      <td>Feb 13, 2020</td>\n",
       "      <td>Everyone</td>\n",
       "      <td>NaN</td>\n",
       "      <td>True</td>\n",
       "      <td>False</td>\n",
       "      <td>False</td>\n",
       "      <td>2021-06-15 20:47:17</td>\n",
       "    </tr>\n",
       "    <tr>\n",
       "      <th>30962</th>\n",
       "      <td>Tic Tac Toe</td>\n",
       "      <td>net.snatchdreams.tictactoe</td>\n",
       "      <td>Puzzle</td>\n",
       "      <td>0.0</td>\n",
       "      <td>0.0</td>\n",
       "      <td>10+</td>\n",
       "      <td>10.0</td>\n",
       "      <td>38</td>\n",
       "      <td>True</td>\n",
       "      <td>0.0</td>\n",
       "      <td>USD</td>\n",
       "      <td>927k</td>\n",
       "      <td>4.0 and up</td>\n",
       "      <td>SnatchDreams</td>\n",
       "      <td>https://www.snatchdreams.net</td>\n",
       "      <td>snatchdreams@gmail.com</td>\n",
       "      <td>Jul 16, 2017</td>\n",
       "      <td>Oct 16, 2019</td>\n",
       "      <td>Everyone</td>\n",
       "      <td>https://www.snatchdreams.net/privacy/tic-tac-toe/</td>\n",
       "      <td>True</td>\n",
       "      <td>False</td>\n",
       "      <td>False</td>\n",
       "      <td>2021-06-15 20:50:12</td>\n",
       "    </tr>\n",
       "    <tr>\n",
       "      <th>...</th>\n",
       "      <td>...</td>\n",
       "      <td>...</td>\n",
       "      <td>...</td>\n",
       "      <td>...</td>\n",
       "      <td>...</td>\n",
       "      <td>...</td>\n",
       "      <td>...</td>\n",
       "      <td>...</td>\n",
       "      <td>...</td>\n",
       "      <td>...</td>\n",
       "      <td>...</td>\n",
       "      <td>...</td>\n",
       "      <td>...</td>\n",
       "      <td>...</td>\n",
       "      <td>...</td>\n",
       "      <td>...</td>\n",
       "      <td>...</td>\n",
       "      <td>...</td>\n",
       "      <td>...</td>\n",
       "      <td>...</td>\n",
       "      <td>...</td>\n",
       "      <td>...</td>\n",
       "      <td>...</td>\n",
       "      <td>...</td>\n",
       "    </tr>\n",
       "    <tr>\n",
       "      <th>2272773</th>\n",
       "      <td>Tic Tac Toe</td>\n",
       "      <td>com.tictactoe.MobileAppsPro</td>\n",
       "      <td>Board</td>\n",
       "      <td>3.8</td>\n",
       "      <td>9269.0</td>\n",
       "      <td>500,000+</td>\n",
       "      <td>500000.0</td>\n",
       "      <td>800662</td>\n",
       "      <td>True</td>\n",
       "      <td>0.0</td>\n",
       "      <td>USD</td>\n",
       "      <td>2.3M</td>\n",
       "      <td>2.3 and up</td>\n",
       "      <td>Mobile Apps Pro</td>\n",
       "      <td>NaN</td>\n",
       "      <td>smartyka@gmail.com</td>\n",
       "      <td>Jan 9, 2015</td>\n",
       "      <td>May 20, 2015</td>\n",
       "      <td>Everyone</td>\n",
       "      <td>http://mobileappspro.yolasite.com</td>\n",
       "      <td>True</td>\n",
       "      <td>False</td>\n",
       "      <td>False</td>\n",
       "      <td>2021-06-16 12:23:56</td>\n",
       "    </tr>\n",
       "    <tr>\n",
       "      <th>2281376</th>\n",
       "      <td>Tic Tac Toe</td>\n",
       "      <td>com.erjainam.tictactoe.release</td>\n",
       "      <td>Board</td>\n",
       "      <td>0.0</td>\n",
       "      <td>0.0</td>\n",
       "      <td>50+</td>\n",
       "      <td>50.0</td>\n",
       "      <td>50</td>\n",
       "      <td>True</td>\n",
       "      <td>0.0</td>\n",
       "      <td>USD</td>\n",
       "      <td>3.5M</td>\n",
       "      <td>5.0 and up</td>\n",
       "      <td>Jainam Jhaveri</td>\n",
       "      <td>https://erjainam.com</td>\n",
       "      <td>engineerjainam@gmail.com</td>\n",
       "      <td>Sep 2, 2018</td>\n",
       "      <td>Sep 02, 2018</td>\n",
       "      <td>Everyone</td>\n",
       "      <td>https://docs.google.com/document/d/1Tyi5D3VxZu...</td>\n",
       "      <td>True</td>\n",
       "      <td>False</td>\n",
       "      <td>False</td>\n",
       "      <td>2021-06-16 12:31:30</td>\n",
       "    </tr>\n",
       "    <tr>\n",
       "      <th>2282023</th>\n",
       "      <td>Tic Tac Toe</td>\n",
       "      <td>com.swapworld.tic_tac_toe</td>\n",
       "      <td>Board</td>\n",
       "      <td>4.7</td>\n",
       "      <td>7.0</td>\n",
       "      <td>10+</td>\n",
       "      <td>10.0</td>\n",
       "      <td>34</td>\n",
       "      <td>True</td>\n",
       "      <td>0.0</td>\n",
       "      <td>USD</td>\n",
       "      <td>5.3M</td>\n",
       "      <td>4.1 and up</td>\n",
       "      <td>Cybertron's Hogwarts</td>\n",
       "      <td>http://prudhvikchirunomula.pythonanywhere.com/</td>\n",
       "      <td>prudhvik.1996@gmail.com</td>\n",
       "      <td>Sep 4, 2019</td>\n",
       "      <td>Sep 17, 2019</td>\n",
       "      <td>Everyone</td>\n",
       "      <td>NaN</td>\n",
       "      <td>False</td>\n",
       "      <td>False</td>\n",
       "      <td>False</td>\n",
       "      <td>2021-06-16 12:32:05</td>\n",
       "    </tr>\n",
       "    <tr>\n",
       "      <th>2299121</th>\n",
       "      <td>Tic Tac Toe</td>\n",
       "      <td>com.infuse.tictactoe</td>\n",
       "      <td>Board</td>\n",
       "      <td>4.8</td>\n",
       "      <td>20.0</td>\n",
       "      <td>100+</td>\n",
       "      <td>100.0</td>\n",
       "      <td>462</td>\n",
       "      <td>True</td>\n",
       "      <td>0.0</td>\n",
       "      <td>USD</td>\n",
       "      <td>2.1M</td>\n",
       "      <td>2.2 and up</td>\n",
       "      <td>Infuse Apps</td>\n",
       "      <td>http://www.infuseapps.com</td>\n",
       "      <td>infuseandroidapps@gmail.com</td>\n",
       "      <td>Jan 18, 2015</td>\n",
       "      <td>Jan 18, 2015</td>\n",
       "      <td>Everyone</td>\n",
       "      <td>NaN</td>\n",
       "      <td>True</td>\n",
       "      <td>False</td>\n",
       "      <td>False</td>\n",
       "      <td>2021-06-16 12:47:11</td>\n",
       "    </tr>\n",
       "    <tr>\n",
       "      <th>2310375</th>\n",
       "      <td>Tic Tac Toe</td>\n",
       "      <td>com.justmailtoavi.avinashk.threet</td>\n",
       "      <td>Puzzle</td>\n",
       "      <td>4.7</td>\n",
       "      <td>10.0</td>\n",
       "      <td>100+</td>\n",
       "      <td>100.0</td>\n",
       "      <td>173</td>\n",
       "      <td>True</td>\n",
       "      <td>0.0</td>\n",
       "      <td>USD</td>\n",
       "      <td>1.7M</td>\n",
       "      <td>4.4 and up</td>\n",
       "      <td>RentMyTent</td>\n",
       "      <td>NaN</td>\n",
       "      <td>justmailtoavi@gmail.com</td>\n",
       "      <td>Mar 30, 2016</td>\n",
       "      <td>Apr 01, 2016</td>\n",
       "      <td>Everyone</td>\n",
       "      <td>NaN</td>\n",
       "      <td>False</td>\n",
       "      <td>False</td>\n",
       "      <td>False</td>\n",
       "      <td>2021-06-16 12:57:05</td>\n",
       "    </tr>\n",
       "  </tbody>\n",
       "</table>\n",
       "<p>382 rows × 24 columns</p>\n",
       "</div>"
      ],
      "text/plain": [
       "            App Name                             App Id Category  Rating  \\\n",
       "3918     Tic Tac Toe           com.dev.atte.tic_tac_toe   Puzzle     0.0   \n",
       "13758    Tic Tac Toe                   com.md.tictactoe    Board     0.0   \n",
       "25351    Tic Tac Toe        com.sthirumuru.tictactoenew    Board     4.2   \n",
       "28142    Tic Tac Toe               com.fsk00x.TicTacToe    Board     0.0   \n",
       "30962    Tic Tac Toe         net.snatchdreams.tictactoe   Puzzle     0.0   \n",
       "...              ...                                ...      ...     ...   \n",
       "2272773  Tic Tac Toe        com.tictactoe.MobileAppsPro    Board     3.8   \n",
       "2281376  Tic Tac Toe     com.erjainam.tictactoe.release    Board     0.0   \n",
       "2282023  Tic Tac Toe          com.swapworld.tic_tac_toe    Board     4.7   \n",
       "2299121  Tic Tac Toe               com.infuse.tictactoe    Board     4.8   \n",
       "2310375  Tic Tac Toe  com.justmailtoavi.avinashk.threet   Puzzle     4.7   \n",
       "\n",
       "         Rating Count  Installs  Minimum Installs  Maximum Installs  Free  \\\n",
       "3918              0.0       10+              10.0                30  True   \n",
       "13758             0.0       10+              10.0                31  True   \n",
       "25351            11.0    5,000+            5000.0              6379  True   \n",
       "28142             0.0      500+             500.0               922  True   \n",
       "30962             0.0       10+              10.0                38  True   \n",
       "...               ...       ...               ...               ...   ...   \n",
       "2272773        9269.0  500,000+          500000.0            800662  True   \n",
       "2281376           0.0       50+              50.0                50  True   \n",
       "2282023           7.0       10+              10.0                34  True   \n",
       "2299121          20.0      100+             100.0               462  True   \n",
       "2310375          10.0      100+             100.0               173  True   \n",
       "\n",
       "         Price Currency  Size Minimum Android             Developer Id  \\\n",
       "3918       0.0      USD  3.4M      4.0 and up        ATTE AKA FRANCOIS   \n",
       "13758      0.0      USD   34M      4.3 and up      Smart Digital Tools   \n",
       "25351      0.0      USD  7.4M      7.0 and up  Sundeep Reddy Thirumuru   \n",
       "28142      0.0      USD  8.6M      4.1 and up          SteadFast Games   \n",
       "30962      0.0      USD  927k      4.0 and up             SnatchDreams   \n",
       "...        ...      ...   ...             ...                      ...   \n",
       "2272773    0.0      USD  2.3M      2.3 and up          Mobile Apps Pro   \n",
       "2281376    0.0      USD  3.5M      5.0 and up           Jainam Jhaveri   \n",
       "2282023    0.0      USD  5.3M      4.1 and up     Cybertron's Hogwarts   \n",
       "2299121    0.0      USD  2.1M      2.2 and up              Infuse Apps   \n",
       "2310375    0.0      USD  1.7M      4.4 and up               RentMyTent   \n",
       "\n",
       "                                      Developer Website  \\\n",
       "3918                  https://ne2ad32ee.app-ads-txt.com   \n",
       "13758                                               NaN   \n",
       "25351                                               NaN   \n",
       "28142                                               NaN   \n",
       "30962                      https://www.snatchdreams.net   \n",
       "...                                                 ...   \n",
       "2272773                                             NaN   \n",
       "2281376                            https://erjainam.com   \n",
       "2282023  http://prudhvikchirunomula.pythonanywhere.com/   \n",
       "2299121                       http://www.infuseapps.com   \n",
       "2310375                                             NaN   \n",
       "\n",
       "                     Developer Email      Released  Last Updated  \\\n",
       "3918     dev.atte.francois@gmail.com  May 18, 2018  May 18, 2018   \n",
       "13758           msms.zaman@gmail.com   Nov 2, 2020  Nov 18, 2020   \n",
       "25351    sundeep.thirumuru@gmail.com  Apr 13, 2021  Jun 03, 2021   \n",
       "28142          devmethyl@outlook.com  Feb 13, 2020  Feb 13, 2020   \n",
       "30962         snatchdreams@gmail.com  Jul 16, 2017  Oct 16, 2019   \n",
       "...                              ...           ...           ...   \n",
       "2272773           smartyka@gmail.com   Jan 9, 2015  May 20, 2015   \n",
       "2281376     engineerjainam@gmail.com   Sep 2, 2018  Sep 02, 2018   \n",
       "2282023      prudhvik.1996@gmail.com   Sep 4, 2019  Sep 17, 2019   \n",
       "2299121  infuseandroidapps@gmail.com  Jan 18, 2015  Jan 18, 2015   \n",
       "2310375      justmailtoavi@gmail.com  Mar 30, 2016  Apr 01, 2016   \n",
       "\n",
       "        Content Rating                                     Privacy Policy  \\\n",
       "3918          Everyone                                                NaN   \n",
       "13758         Everyone  https://smartdailytools.blogspot.com/2020/09/p...   \n",
       "25351         Everyone                                                NaN   \n",
       "28142         Everyone                                                NaN   \n",
       "30962         Everyone  https://www.snatchdreams.net/privacy/tic-tac-toe/   \n",
       "...                ...                                                ...   \n",
       "2272773       Everyone                  http://mobileappspro.yolasite.com   \n",
       "2281376       Everyone  https://docs.google.com/document/d/1Tyi5D3VxZu...   \n",
       "2282023       Everyone                                                NaN   \n",
       "2299121       Everyone                                                NaN   \n",
       "2310375       Everyone                                                NaN   \n",
       "\n",
       "         Ad Supported  In App Purchases  Editors Choice         Scraped Time  \n",
       "3918             True             False           False  2021-06-15 20:23:22  \n",
       "13758            True             False           False  2021-06-15 20:32:58  \n",
       "25351            True             False           False  2021-06-15 20:44:27  \n",
       "28142            True             False           False  2021-06-15 20:47:17  \n",
       "30962            True             False           False  2021-06-15 20:50:12  \n",
       "...               ...               ...             ...                  ...  \n",
       "2272773          True             False           False  2021-06-16 12:23:56  \n",
       "2281376          True             False           False  2021-06-16 12:31:30  \n",
       "2282023         False             False           False  2021-06-16 12:32:05  \n",
       "2299121          True             False           False  2021-06-16 12:47:11  \n",
       "2310375         False             False           False  2021-06-16 12:57:05  \n",
       "\n",
       "[382 rows x 24 columns]"
      ]
     },
     "execution_count": 28,
     "metadata": {},
     "output_type": "execute_result"
    }
   ],
   "source": [
    "df[df['App Name'] == 'Tic Tac Toe']"
   ]
  },
  {
   "cell_type": "code",
   "execution_count": 30,
   "id": "2cf6fe40-a129-4013-9070-a6a2885aec99",
   "metadata": {
    "tags": []
   },
   "outputs": [
    {
     "data": {
      "text/plain": [
       "0"
      ]
     },
     "execution_count": 30,
     "metadata": {},
     "output_type": "execute_result"
    }
   ],
   "source": [
    "df['App Id'].duplicated().sum()"
   ]
  },
  {
   "cell_type": "code",
   "execution_count": 31,
   "id": "da506c36-fecc-47d5-9e6a-b67381795662",
   "metadata": {
    "tags": []
   },
   "outputs": [
    {
     "data": {
      "text/plain": [
       "com.ishakwe.gakondo                    1\n",
       "com.avai.amp.dewtour                   1\n",
       "com.myhomebuy                          1\n",
       "com.apocalipseescatologia.app          1\n",
       "com.puzzlegame.wordconnect             1\n",
       "                                      ..\n",
       "id.compro.virtualcompetition           1\n",
       "com.fitivity.basketball_point_guard    1\n",
       "smartgr.gardenshower.ideas             1\n",
       "com.euroland.mobiletools.ae_nbad       1\n",
       "com.yyazilim.biliyormusun              1\n",
       "Name: App Id, Length: 2312548, dtype: int64"
      ]
     },
     "execution_count": 31,
     "metadata": {},
     "output_type": "execute_result"
    }
   ],
   "source": [
    "df['App Id'].value_counts()"
   ]
  },
  {
   "cell_type": "markdown",
   "id": "0e9ae7a4-aac5-4c8a-87ba-8eec4962ee21",
   "metadata": {},
   "source": [
    "- So we have the Apps with the same names but with the unique App IDs so the Apps are differed based on the App IDs."
   ]
  },
  {
   "cell_type": "markdown",
   "id": "0b9bb907-89a7-46bf-90e6-06ab9fff9c97",
   "metadata": {},
   "source": [
    "### Let's Explore the numerical columns:"
   ]
  },
  {
   "cell_type": "markdown",
   "id": "c818436f-421e-4d45-bdd2-092162140cf7",
   "metadata": {},
   "source": [
    "- Checking Installs Column"
   ]
  },
  {
   "cell_type": "code",
   "execution_count": 32,
   "id": "5e46b002-ac1d-4159-aedf-da4866c556a6",
   "metadata": {
    "tags": []
   },
   "outputs": [
    {
     "data": {
      "text/plain": [
       "array(['10+', '5,000+', '50+', '100+', '1,000+', '500+', '50,000+',\n",
       "       '10,000+', '1+', '500,000+', '100,000+', '5+', '10,000,000+',\n",
       "       '1,000,000+', '5,000,000+', '0+', '100,000,000+', '50,000,000+',\n",
       "       '1,000,000,000+', '500,000,000+', '5,000,000,000+',\n",
       "       '10,000,000,000+'], dtype=object)"
      ]
     },
     "execution_count": 32,
     "metadata": {},
     "output_type": "execute_result"
    }
   ],
   "source": [
    "df['Installs'].unique()"
   ]
  },
  {
   "cell_type": "markdown",
   "id": "924c3cf4-997a-4423-bdfd-e8a76d971c50",
   "metadata": {},
   "source": [
    "- We need to change the type of this column from object to int."
   ]
  },
  {
   "cell_type": "code",
   "execution_count": 35,
   "id": "bcb2e411-8fdc-4908-8010-f99155ba8d77",
   "metadata": {
    "tags": []
   },
   "outputs": [],
   "source": [
    "## Removing + and , from the values\n",
    "df['Installs'] = df['Installs'].apply(lambda x: x.split('+')[0]) ## Remove + symbol"
   ]
  },
  {
   "cell_type": "code",
   "execution_count": 40,
   "id": "3872d5c4-9ad1-4969-8333-3194feb0cbb9",
   "metadata": {
    "tags": []
   },
   "outputs": [],
   "source": [
    "df['Installs'] = df['Installs'].apply(lambda x: x.replace(',','')) ## Remove ',' symbol"
   ]
  },
  {
   "cell_type": "code",
   "execution_count": 41,
   "id": "c7b60140-6722-4cc7-a121-f14c194fc62d",
   "metadata": {
    "tags": []
   },
   "outputs": [
    {
     "data": {
      "text/plain": [
       "array(['10', '5000', '50', '100', '1000', '500', '50000', '10000', '1',\n",
       "       '500000', '100000', '5', '10000000', '1000000', '5000000', '0',\n",
       "       '100000000', '50000000', '1000000000', '500000000', '5000000000',\n",
       "       '10000000000'], dtype=object)"
      ]
     },
     "execution_count": 41,
     "metadata": {},
     "output_type": "execute_result"
    }
   ],
   "source": [
    "df['Installs'].unique()"
   ]
  },
  {
   "cell_type": "code",
   "execution_count": 43,
   "id": "de916b77-b252-4a6b-94c8-745c91c40dc3",
   "metadata": {
    "tags": []
   },
   "outputs": [],
   "source": [
    "df['Installs'] = df['Installs'].astype('int64')"
   ]
  },
  {
   "cell_type": "code",
   "execution_count": 44,
   "id": "ea218852-4430-48dd-ae7c-6a183592f35c",
   "metadata": {
    "tags": []
   },
   "outputs": [
    {
     "data": {
      "text/plain": [
       "array([         10,        5000,          50,         100,        1000,\n",
       "               500,       50000,       10000,           1,      500000,\n",
       "            100000,           5,    10000000,     1000000,     5000000,\n",
       "                 0,   100000000,    50000000,  1000000000,   500000000,\n",
       "        5000000000, 10000000000], dtype=int64)"
      ]
     },
     "execution_count": 44,
     "metadata": {},
     "output_type": "execute_result"
    }
   ],
   "source": [
    "df['Installs'].unique()"
   ]
  },
  {
   "cell_type": "markdown",
   "id": "f653350d-aeae-49ee-86f3-dc078d05187b",
   "metadata": {},
   "source": [
    "- Checking Currency Column"
   ]
  },
  {
   "cell_type": "code",
   "execution_count": 45,
   "id": "5ef91b56-72d8-4b11-9a0c-612692cc4c56",
   "metadata": {
    "tags": []
   },
   "outputs": [
    {
     "data": {
      "text/plain": [
       "array(['USD', 'XXX', 'CAD', 'EUR', 'INR', 'VND', 'GBP', 'BRL', 'KRW',\n",
       "       'TRY', 'RUB', 'SGD', 'AUD', 'PKR', 'ZAR'], dtype=object)"
      ]
     },
     "execution_count": 45,
     "metadata": {},
     "output_type": "execute_result"
    }
   ],
   "source": [
    "df['Currency'].unique()"
   ]
  },
  {
   "cell_type": "markdown",
   "id": "705106f4-d5d0-4a4d-8e3d-8327110a243c",
   "metadata": {},
   "source": [
    "- Checking Size Column"
   ]
  },
  {
   "cell_type": "code",
   "execution_count": 46,
   "id": "a0987fd5-12e7-4024-9a4a-b7988ed530ea",
   "metadata": {
    "tags": []
   },
   "outputs": [
    {
     "data": {
      "text/plain": [
       "array(['10M', '2.9M', '3.7M', ..., '405M', '3.2k', '512M'], dtype=object)"
      ]
     },
     "execution_count": 46,
     "metadata": {},
     "output_type": "execute_result"
    }
   ],
   "source": [
    "df['Size'].unique()"
   ]
  },
  {
   "cell_type": "markdown",
   "id": "136e509a-d477-45e2-8919-474c38e80621",
   "metadata": {},
   "source": [
    "- The Size of data can be in GB, MB and KB let's convert the data into sme size to the size in MB"
   ]
  },
  {
   "cell_type": "code",
   "execution_count": 51,
   "id": "51c14207-226b-4cc9-aab4-f7cb58bc0b19",
   "metadata": {
    "tags": []
   },
   "outputs": [],
   "source": [
    "df['Size'] = df['Size'].apply(lambda x: x.split('M')[0] if 'M' in x else x) # Remove M"
   ]
  },
  {
   "cell_type": "code",
   "execution_count": 54,
   "id": "56464ec1-2fc3-463b-8357-df78587c6e1a",
   "metadata": {
    "tags": []
   },
   "outputs": [],
   "source": [
    "df['Size'] = df['Size'].apply(lambda x: x.replace(',','')) # Remove , from values"
   ]
  },
  {
   "cell_type": "code",
   "execution_count": 57,
   "id": "cda34a86-6d6c-445d-8e0f-9de65681ba86",
   "metadata": {
    "tags": []
   },
   "outputs": [],
   "source": [
    "df['Size'] = df['Size'].apply(lambda x: float(str(x).replace('k',''))/1000 if 'k' in str(x) else x) #Removing k and converting in mbs"
   ]
  },
  {
   "cell_type": "code",
   "execution_count": 58,
   "id": "48895213-62ef-459f-a538-a8138b9b95e3",
   "metadata": {
    "tags": []
   },
   "outputs": [],
   "source": [
    "df['Size'] = df['Size'].apply(lambda x: str(x).replace('Varies with device', '0') if 'Varies with device' in str(x) else x)"
   ]
  },
  {
   "cell_type": "code",
   "execution_count": 59,
   "id": "7aa0d323-151b-445a-8b98-1b9f9b19a9d5",
   "metadata": {
    "tags": []
   },
   "outputs": [],
   "source": [
    "df['Size'] = df['Size'].apply(lambda x: float(str(x).replace('G', '')) * 1000 if 'G' in str(x) else x) # Removing G and converting gbs to mbs"
   ]
  },
  {
   "cell_type": "code",
   "execution_count": 60,
   "id": "4a30b103-4281-4e1b-87f5-cf62eb20d434",
   "metadata": {
    "tags": []
   },
   "outputs": [],
   "source": [
    "df['Size'] = df['Size'].astype(float)"
   ]
  },
  {
   "cell_type": "code",
   "execution_count": 62,
   "id": "f4d8f79d-2e65-4af0-8666-5c9bc1561ea2",
   "metadata": {
    "tags": []
   },
   "outputs": [
    {
     "data": {
      "text/plain": [
       "array([1.00e+01, 2.90e+00, 3.70e+00, ..., 4.05e+02, 3.20e-03, 5.12e+02])"
      ]
     },
     "execution_count": 62,
     "metadata": {},
     "output_type": "execute_result"
    }
   ],
   "source": [
    "df['Size'].unique()"
   ]
  },
  {
   "cell_type": "markdown",
   "id": "3e48f310-5a0e-4abf-9a98-6613e53ef24c",
   "metadata": {},
   "source": [
    "- Checking Minimum Android Column"
   ]
  },
  {
   "cell_type": "code",
   "execution_count": 64,
   "id": "9aa52e62-a895-4cab-9ff5-c1a7aa7d6fb9",
   "metadata": {
    "tags": []
   },
   "outputs": [
    {
     "data": {
      "text/plain": [
       "array(['7.1 and up', '5.0 and up', '4.0.3 and up', '4.1 and up',\n",
       "       '6.0 and up', '4.4 and up', '4.0 and up', '4.2 and up',\n",
       "       '2.1 and up', '7.0 and up', '2.2 and up', '2.3 and up',\n",
       "       '4.3 and up', '5.1 and up', nan, '1.6 and up', '3.0 and up',\n",
       "       'Varies with device', '8.0 and up', '2.3.3 and up', '4.4W and up',\n",
       "       '3.2 and up', '1.5 and up', '4.0.3 - 7.1.1', '3.1 and up',\n",
       "       '2.0 and up', '1.0 and up', '1.1 and up', '2.0.1 and up',\n",
       "       '4.4 - 6.0', '2.1 - 4.4', '4.0 - 5.0', '2.0 - 2.3.4', '2.2 - 4.4',\n",
       "       '4.1 - 7.0', '4.1 - 6.0', '4.0 - 4.4W', '4.0 - 4.4', '4.0.3 - 7.0',\n",
       "       '2.3 - 5.0', '4.0 - 7.1.1', '4.1 - 7.1.1', '4.0 - 7.0',\n",
       "       '4.1 - 8.0', '4.0 - 6.0', '2.3 - 7.0', '4.0 - 8.0', '2.3 - 6.0',\n",
       "       '2.1 - 2.3.4', '3.0 - 4.1.1', '2.2 - 3.0', '2.0 - 8.0',\n",
       "       '4.0.3 - 8.0', '3.0 - 4.4W', '4.4 - 7.1.1', '4.4 - 8.0',\n",
       "       '4.0.3 - 6.0', '1.6 - 4.0.4', '8.0', '2.3 - 5.1', '2.1 - 7.1.1',\n",
       "       '2.3 - 4.4W', '4.4 - 7.0', '6.0 - 7.1.1', '2.3 - 4.4',\n",
       "       '2.2 - 4.0.4', '2.1 - 4.1.1', '3.0 - 8.0', '3.0 - 5.1',\n",
       "       '2.1 - 6.0', '6.0 - 8.0', '5.0 - 8.0', '4.1 - 5.1', '3.2 - 4.4',\n",
       "       '2.1 - 5.0', '4.1 - 4.3', '5.0 - 6.0', '5.1 - 7.1.1', '2.2 - 5.1',\n",
       "       '4.1 - 5.0', '2.3.3 - 4.4', '2.2 - 5.0', '2.2', '4.1 - 4.4',\n",
       "       '1.6 - 5.1', '4.2 - 7.1.1', '2.1 - 5.1', '1.6 - 4.4W',\n",
       "       '4.3 - 4.4W', '3.0 - 4.4', '2.1 - 3.1', '2.3 - 7.1.1',\n",
       "       '1.6 - 4.0.2', '4.0 - 4.0.4', '4.2 - 4.4W', '3.0 - 7.1.1',\n",
       "       '3.2 - 7.1.1', '3.0 - 6.0', '2.2 - 4.4W', '4.0.3 - 4.4',\n",
       "       '4.0.3 - 5.1', '6.0', '4.3', '1.1 - 4.4', '2.3.3 - 8.0',\n",
       "       '2.3.3 - 5.0', '2.2 - 6.0', '3.0 - 5.0', '2.3.3 - 2.3.4',\n",
       "       '1.5 - 2.1', '2.2 - 3.2', '5.0 - 7.1.1', '2.1 - 3.2',\n",
       "       '4.2 - 4.2.2', '2.3.3 - 5.1', '2.2 - 4.1.1', '1.6 - 4.4',\n",
       "       '4.2 - 4.3', '4.0 - 5.1', '1.6 - 7.0', '3.0 - 7.0', '1.0 - 6.0',\n",
       "       '2.3.3 - 4.0.4', '2.3 - 3.2', '4.3 - 8.0', '2.3 - 8.0',\n",
       "       '3.2 - 6.0', '2.3.3 - 7.1.1', '4.2 - 8.0', '2.2 - 4.3',\n",
       "       '3.2 - 4.1.1', '4.4 - 5.1', '2.3 - 4.1.1', '2.1 - 4.4W', '4.4',\n",
       "       '2.3.3 - 4.4W', '4.1 - 4.4W', '1.6 - 7.1.1', '2.2 - 4.2.2',\n",
       "       '4.3 - 5.1', '4.0.3 - 4.2.2', '2.2 - 2.3.4', '4.3 - 4.4',\n",
       "       '4.2 - 6.0', '4.4 - 4.4W', '2.3 - 4.0.2', '3.2 - 5.1', '7.0',\n",
       "       '3.0 - 3.2', '1.6 - 4.2.2', '5.1', '1.5 - 3.2', '2.2 - 8.0',\n",
       "       '1.6 - 2.1', '2.3.3 - 6.0'], dtype=object)"
      ]
     },
     "execution_count": 64,
     "metadata": {},
     "output_type": "execute_result"
    }
   ],
   "source": [
    "df['Minimum Android'].unique()"
   ]
  },
  {
   "cell_type": "markdown",
   "id": "07a80e42-32e6-480a-884c-5525c4833bda",
   "metadata": {},
   "source": [
    "- Checking Content Rating Column"
   ]
  },
  {
   "cell_type": "code",
   "execution_count": 65,
   "id": "34cab321-788d-44aa-a4a1-e4a241da4495",
   "metadata": {
    "tags": []
   },
   "outputs": [
    {
     "data": {
      "text/plain": [
       "array(['Everyone', 'Teen', 'Mature 17+', 'Everyone 10+',\n",
       "       'Adults only 18+', 'Unrated'], dtype=object)"
      ]
     },
     "execution_count": 65,
     "metadata": {},
     "output_type": "execute_result"
    }
   ],
   "source": [
    "df['Content Rating'].unique()"
   ]
  },
  {
   "cell_type": "markdown",
   "id": "0a5b97d8-fe12-422c-8edf-6cff72212974",
   "metadata": {},
   "source": [
    "- Checking Released date column"
   ]
  },
  {
   "cell_type": "code",
   "execution_count": 66,
   "id": "8b0741e5-4dd2-4f0d-bf46-57a803283607",
   "metadata": {
    "tags": []
   },
   "outputs": [
    {
     "data": {
      "text/plain": [
       "0          Feb 26, 2020\n",
       "1          May 21, 2020\n",
       "2           Aug 9, 2019\n",
       "3          Sep 10, 2018\n",
       "4          Feb 21, 2020\n",
       "               ...     \n",
       "2312939             NaN\n",
       "2312940    Jan 17, 2018\n",
       "2312941    Aug 19, 2018\n",
       "2312942     Aug 1, 2016\n",
       "2312943     Aug 9, 2019\n",
       "Name: Released, Length: 2312548, dtype: object"
      ]
     },
     "execution_count": 66,
     "metadata": {},
     "output_type": "execute_result"
    }
   ],
   "source": [
    "df['Released']"
   ]
  },
  {
   "cell_type": "markdown",
   "id": "b31c6112-66a0-4e7a-94dd-d6ad0419ef45",
   "metadata": {},
   "source": [
    "- Checking Last Updated Column"
   ]
  },
  {
   "cell_type": "code",
   "execution_count": 67,
   "id": "c7f7bee0-4d99-4a7d-b1f0-77d09d343101",
   "metadata": {
    "tags": []
   },
   "outputs": [
    {
     "data": {
      "text/plain": [
       "0          Feb 26, 2020\n",
       "1          May 06, 2021\n",
       "2          Aug 19, 2019\n",
       "3          Oct 13, 2018\n",
       "4          Nov 12, 2018\n",
       "               ...     \n",
       "2312939    Jun 01, 2021\n",
       "2312940    Feb 02, 2018\n",
       "2312941    Aug 19, 2018\n",
       "2312942    May 05, 2021\n",
       "2312943    Aug 19, 2019\n",
       "Name: Last Updated, Length: 2312548, dtype: object"
      ]
     },
     "execution_count": 67,
     "metadata": {},
     "output_type": "execute_result"
    }
   ],
   "source": [
    "df['Last Updated']"
   ]
  },
  {
   "cell_type": "markdown",
   "id": "47a7ee78-717b-4118-96bc-5d23d0f65af1",
   "metadata": {},
   "source": [
    "- Checking Privacy Policy Column"
   ]
  },
  {
   "cell_type": "code",
   "execution_count": 68,
   "id": "38a37e55-a229-419e-ad9f-fa1a971f28af",
   "metadata": {
    "tags": []
   },
   "outputs": [
    {
     "data": {
      "text/plain": [
       "0                         https://beniyizibyose.tk/projects/\n",
       "1          https://dev4phones.wordpress.com/licencia-de-uso/\n",
       "2          https://www.vietnamairlines.com/vn/en/terms-an...\n",
       "3                                                        NaN\n",
       "4                                http://www.horodyski.com.pl\n",
       "                                 ...                        \n",
       "2312939               http://a.4399sy.com.hk/user/aggreement\n",
       "2312940      http://www.oru.edu/about-oru/privacy-policy.php\n",
       "2312941    https://appoworld.000webhostapp.com/datastruct...\n",
       "2312942    https://docs.google.com/document/d/1x-9reZuLRX...\n",
       "2312943    https://biliyor-musun-sons.flycricket.io/priva...\n",
       "Name: Privacy Policy, Length: 2312548, dtype: object"
      ]
     },
     "execution_count": 68,
     "metadata": {},
     "output_type": "execute_result"
    }
   ],
   "source": [
    "df['Privacy Policy']"
   ]
  },
  {
   "cell_type": "markdown",
   "id": "606b6330-1b96-4069-a8dc-f73badedb168",
   "metadata": {},
   "source": [
    "- Checking Scraped Time Column"
   ]
  },
  {
   "cell_type": "code",
   "execution_count": 69,
   "id": "c408c68e-537a-42c5-b1da-2539a5c1df70",
   "metadata": {
    "tags": []
   },
   "outputs": [
    {
     "data": {
      "text/plain": [
       "0          2021-06-15 20:19:35\n",
       "1          2021-06-15 20:19:35\n",
       "2          2021-06-15 20:19:35\n",
       "3          2021-06-15 20:19:35\n",
       "4          2021-06-15 20:19:35\n",
       "                  ...         \n",
       "2312939    2021-06-16 12:59:18\n",
       "2312940    2021-06-16 12:59:19\n",
       "2312941    2021-06-16 12:59:19\n",
       "2312942    2021-06-16 12:59:19\n",
       "2312943    2021-06-16 12:59:19\n",
       "Name: Scraped Time, Length: 2312548, dtype: object"
      ]
     },
     "execution_count": 69,
     "metadata": {},
     "output_type": "execute_result"
    }
   ],
   "source": [
    "df['Scraped Time']"
   ]
  },
  {
   "cell_type": "markdown",
   "id": "f1a76353-c609-44e7-9a07-e91fba2c7a8c",
   "metadata": {},
   "source": [
    "### Let's clean the Content Rating column:"
   ]
  },
  {
   "cell_type": "code",
   "execution_count": 76,
   "id": "3057939d-4347-46dc-8ee6-1e6a7d747a18",
   "metadata": {
    "tags": []
   },
   "outputs": [
    {
     "data": {
      "text/plain": [
       "array(['Everyone', 'Teen', 'Mature 17+', 'Everyone 10+',\n",
       "       'Adults only 18+', 'Unrated'], dtype=object)"
      ]
     },
     "execution_count": 76,
     "metadata": {},
     "output_type": "execute_result"
    }
   ],
   "source": [
    "df['Content Rating'].unique()"
   ]
  },
  {
   "cell_type": "code",
   "execution_count": 77,
   "id": "0aa98dbe-8939-4c44-a29f-de92c5a14778",
   "metadata": {
    "tags": []
   },
   "outputs": [
    {
     "data": {
      "text/plain": [
       "Everyone           2021788\n",
       "Teen                196311\n",
       "Mature 17+           60278\n",
       "Everyone 10+         33881\n",
       "Unrated                154\n",
       "Adults only 18+        136\n",
       "Name: Content Rating, dtype: int64"
      ]
     },
     "execution_count": 77,
     "metadata": {},
     "output_type": "execute_result"
    }
   ],
   "source": [
    "df['Content Rating'].value_counts()"
   ]
  },
  {
   "cell_type": "markdown",
   "id": "46a0711e-085f-48e6-9291-7468349a0e3a",
   "metadata": {},
   "source": [
    "Now, we makes this Categories to a simple 3 Categories for better understanding :\n",
    "Everyone, Teen, Adults\n",
    "\n",
    "- Mature 17+ ----> to Adults\n",
    "- Everyone 10+ ----> to Teen\n",
    "- Unrated ----> to Everyone\n",
    "- Adults only 18+ -> to Adults"
   ]
  },
  {
   "cell_type": "code",
   "execution_count": 78,
   "id": "027679b9-2eaf-414a-a370-2088eb2d88e6",
   "metadata": {
    "tags": []
   },
   "outputs": [],
   "source": [
    "df[\"Content Rating\"]=df[\"Content Rating\"].replace(\"Unrated\",\"Everyone\")\n",
    "df[\"Content Rating\"]=df[\"Content Rating\"].replace(\"Everyone 10+\",\"Teen\")\n",
    "df[\"Content Rating\"]=df[\"Content Rating\"].replace(\"Mature 17+\",\"Adults\")\n",
    "df[\"Content Rating\"]=df[\"Content Rating\"].replace(\"Adults only 18+\",\"Adults\")"
   ]
  },
  {
   "cell_type": "code",
   "execution_count": 79,
   "id": "615db2dc-b98d-47fb-8432-fd1335e9f2cf",
   "metadata": {
    "tags": []
   },
   "outputs": [
    {
     "data": {
      "text/plain": [
       "Everyone    2021942\n",
       "Teen         230192\n",
       "Adults        60414\n",
       "Name: Content Rating, dtype: int64"
      ]
     },
     "execution_count": 79,
     "metadata": {},
     "output_type": "execute_result"
    }
   ],
   "source": [
    "df['Content Rating'].value_counts()"
   ]
  },
  {
   "cell_type": "code",
   "execution_count": 80,
   "id": "bd2a6fbc-b2c1-4e98-aaeb-3c240bf7df73",
   "metadata": {
    "tags": []
   },
   "outputs": [
    {
     "name": "stdout",
     "output_type": "stream",
     "text": [
      "<class 'pandas.core.frame.DataFrame'>\n",
      "Int64Index: 2312548 entries, 0 to 2312943\n",
      "Data columns (total 24 columns):\n",
      " #   Column             Dtype  \n",
      "---  ------             -----  \n",
      " 0   App Name           object \n",
      " 1   App Id             object \n",
      " 2   Category           object \n",
      " 3   Rating             float64\n",
      " 4   Rating Count       float64\n",
      " 5   Installs           int64  \n",
      " 6   Minimum Installs   float64\n",
      " 7   Maximum Installs   int64  \n",
      " 8   Free               bool   \n",
      " 9   Price              float64\n",
      " 10  Currency           object \n",
      " 11  Size               float64\n",
      " 12  Minimum Android    object \n",
      " 13  Developer Id       object \n",
      " 14  Developer Website  object \n",
      " 15  Developer Email    object \n",
      " 16  Released           object \n",
      " 17  Last Updated       object \n",
      " 18  Content Rating     object \n",
      " 19  Privacy Policy     object \n",
      " 20  Ad Supported       bool   \n",
      " 21  In App Purchases   bool   \n",
      " 22  Editors Choice     bool   \n",
      " 23  Scraped Time       object \n",
      "dtypes: bool(4), float64(5), int64(2), object(13)\n",
      "memory usage: 379.3+ MB\n"
     ]
    }
   ],
   "source": [
    "df.info()"
   ]
  },
  {
   "cell_type": "markdown",
   "id": "50eb2ff5-e3e0-4e1e-bb84-8aa1749ff789",
   "metadata": {},
   "source": [
    "- Checking Rating Column"
   ]
  },
  {
   "cell_type": "code",
   "execution_count": 81,
   "id": "6f81e81d-9591-43d6-9959-a0ef6a483f37",
   "metadata": {
    "tags": []
   },
   "outputs": [
    {
     "data": {
      "text/plain": [
       "0          0.0\n",
       "1          4.4\n",
       "2          0.0\n",
       "3          5.0\n",
       "4          0.0\n",
       "          ... \n",
       "2312939    4.3\n",
       "2312940    0.0\n",
       "2312941    0.0\n",
       "2312942    3.5\n",
       "2312943    5.0\n",
       "Name: Rating, Length: 2312548, dtype: float64"
      ]
     },
     "execution_count": 81,
     "metadata": {},
     "output_type": "execute_result"
    }
   ],
   "source": [
    "df['Rating']"
   ]
  },
  {
   "cell_type": "code",
   "execution_count": 83,
   "id": "33e424c0-d27a-4af6-8cc2-99e87ac05288",
   "metadata": {
    "tags": []
   },
   "outputs": [
    {
     "data": {
      "text/plain": [
       "0              0.0\n",
       "1             64.0\n",
       "2              0.0\n",
       "3              5.0\n",
       "4              0.0\n",
       "            ...   \n",
       "2312939    16775.0\n",
       "2312940        0.0\n",
       "2312941        0.0\n",
       "2312942        8.0\n",
       "2312943       12.0\n",
       "Name: Rating Count, Length: 2312548, dtype: float64"
      ]
     },
     "execution_count": 83,
     "metadata": {},
     "output_type": "execute_result"
    }
   ],
   "source": [
    "df['Rating Count']"
   ]
  },
  {
   "cell_type": "code",
   "execution_count": 85,
   "id": "aeba9963-0709-432e-942f-cb8e69b73da0",
   "metadata": {
    "tags": []
   },
   "outputs": [
    {
     "data": {
      "text/plain": [
       "Less than 10K           1192801\n",
       "NoRatingProvided        1082303\n",
       "Between 10K and 500K      35779\n",
       "More than 500K             1665\n",
       "Name: Rating Type, dtype: int64"
      ]
     },
     "execution_count": 85,
     "metadata": {},
     "output_type": "execute_result"
    }
   ],
   "source": [
    "df['Rating Type'] = 'NoRatingProvided'\n",
    "df.loc[(df['Rating Count'] > 0) & (df['Rating Count'] <= 10000.0),'Rating Type'] = 'Less than 10K'\n",
    "df.loc[(df['Rating Count'] > 10000) & (df['Rating Count'] <= 500000.0),'Rating Type'] = 'Between 10K and 500K'\n",
    "df.loc[(df['Rating Count'] > 500000) & (df['Rating Count'] <= 138557570.0),'Rating Type'] = 'More than 500K'\n",
    "df['Rating Type'].value_counts()"
   ]
  },
  {
   "cell_type": "code",
   "execution_count": 86,
   "id": "eec592e9-58ad-43f2-9c54-ec040e47c25f",
   "metadata": {
    "tags": []
   },
   "outputs": [
    {
     "name": "stdout",
     "output_type": "stream",
     "text": [
      "<class 'pandas.core.frame.DataFrame'>\n",
      "Int64Index: 2312548 entries, 0 to 2312943\n",
      "Data columns (total 25 columns):\n",
      " #   Column             Dtype  \n",
      "---  ------             -----  \n",
      " 0   App Name           object \n",
      " 1   App Id             object \n",
      " 2   Category           object \n",
      " 3   Rating             float64\n",
      " 4   Rating Count       float64\n",
      " 5   Installs           int64  \n",
      " 6   Minimum Installs   float64\n",
      " 7   Maximum Installs   int64  \n",
      " 8   Free               bool   \n",
      " 9   Price              float64\n",
      " 10  Currency           object \n",
      " 11  Size               float64\n",
      " 12  Minimum Android    object \n",
      " 13  Developer Id       object \n",
      " 14  Developer Website  object \n",
      " 15  Developer Email    object \n",
      " 16  Released           object \n",
      " 17  Last Updated       object \n",
      " 18  Content Rating     object \n",
      " 19  Privacy Policy     object \n",
      " 20  Ad Supported       bool   \n",
      " 21  In App Purchases   bool   \n",
      " 22  Editors Choice     bool   \n",
      " 23  Scraped Time       object \n",
      " 24  Rating Type        object \n",
      "dtypes: bool(4), float64(5), int64(2), object(14)\n",
      "memory usage: 397.0+ MB\n"
     ]
    }
   ],
   "source": [
    "df.info()"
   ]
  },
  {
   "cell_type": "code",
   "execution_count": 87,
   "id": "5b6ca542-0511-43fe-96a2-d6c867025967",
   "metadata": {
    "tags": []
   },
   "outputs": [],
   "source": [
    "df['Type'] = np.where(df['Free'] == True,'Free','Paid')\n",
    "df.drop(['Free'],axis=1, inplace= True )"
   ]
  },
  {
   "cell_type": "code",
   "execution_count": 88,
   "id": "9531d921-8dae-44fa-bb8f-2e5201150835",
   "metadata": {
    "tags": []
   },
   "outputs": [
    {
     "name": "stdout",
     "output_type": "stream",
     "text": [
      "<class 'pandas.core.frame.DataFrame'>\n",
      "Int64Index: 2312548 entries, 0 to 2312943\n",
      "Data columns (total 25 columns):\n",
      " #   Column             Dtype  \n",
      "---  ------             -----  \n",
      " 0   App Name           object \n",
      " 1   App Id             object \n",
      " 2   Category           object \n",
      " 3   Rating             float64\n",
      " 4   Rating Count       float64\n",
      " 5   Installs           int64  \n",
      " 6   Minimum Installs   float64\n",
      " 7   Maximum Installs   int64  \n",
      " 8   Price              float64\n",
      " 9   Currency           object \n",
      " 10  Size               float64\n",
      " 11  Minimum Android    object \n",
      " 12  Developer Id       object \n",
      " 13  Developer Website  object \n",
      " 14  Developer Email    object \n",
      " 15  Released           object \n",
      " 16  Last Updated       object \n",
      " 17  Content Rating     object \n",
      " 18  Privacy Policy     object \n",
      " 19  Ad Supported       bool   \n",
      " 20  In App Purchases   bool   \n",
      " 21  Editors Choice     bool   \n",
      " 22  Scraped Time       object \n",
      " 23  Rating Type        object \n",
      " 24  Type               object \n",
      "dtypes: bool(3), float64(5), int64(2), object(15)\n",
      "memory usage: 412.4+ MB\n"
     ]
    }
   ],
   "source": [
    "df.info()"
   ]
  },
  {
   "cell_type": "markdown",
   "id": "45dcfd29-afc9-44cc-a95d-605b1b702c5f",
   "metadata": {},
   "source": [
    "## Question and Aswers :\n",
    "1. What are the top 10 Categories that are installed from the Google Play Store ?\n",
    "\n",
    "2. Which are the Categories that are getting installed the most in top 10 Categories?\n",
    "\n",
    "3. What is the higest rated Category ?\n",
    "\n",
    "4. Which Category has the highest Paid and Free apps ?\n",
    "\n",
    "5. How does the size of the Application impacts the Installation ?\n",
    "\n",
    "6. What are the Top 5 Paid Apps based With highest ratings and installs ?\n",
    "\n",
    "7. What are the Top 5 Free Apps based With highest ratings and installs ?"
   ]
  },
  {
   "cell_type": "markdown",
   "id": "e154a170-e85e-42e7-91f5-6bbf9b868729",
   "metadata": {},
   "source": [
    "### 1. What are the top 10 Categories that are installed from the Google Play Store ?"
   ]
  },
  {
   "cell_type": "code",
   "execution_count": 91,
   "id": "6df547c2-9a01-4dd7-ae3b-f1e8f60391dc",
   "metadata": {
    "tags": []
   },
   "outputs": [
    {
     "data": {
      "text/plain": [
       "0              Adventure\n",
       "1                  Tools\n",
       "2           Productivity\n",
       "3          Communication\n",
       "4                  Tools\n",
       "               ...      \n",
       "2312939     Role Playing\n",
       "2312940        Education\n",
       "2312941        Education\n",
       "2312942    Music & Audio\n",
       "2312943           Trivia\n",
       "Name: Category, Length: 2312548, dtype: object"
      ]
     },
     "execution_count": 91,
     "metadata": {},
     "output_type": "execute_result"
    }
   ],
   "source": [
    "df['Category']"
   ]
  },
  {
   "cell_type": "code",
   "execution_count": 103,
   "id": "b43489c6-f4f8-483e-95f0-caf9af9e9aaa",
   "metadata": {
    "tags": []
   },
   "outputs": [
    {
     "data": {
      "text/plain": [
       "Category\n",
       "Tools                      71440271217\n",
       "Communication              43216592414\n",
       "Productivity               28313922253\n",
       "Photography                18998958963\n",
       "Video Players & Editors    18591154109\n",
       "Action                     17399855328\n",
       "Social                     17165994565\n",
       "Entertainment              17108397933\n",
       "Casual                     16836783725\n",
       "Arcade                     14501230855\n",
       "Name: Installs, dtype: int64"
      ]
     },
     "execution_count": 103,
     "metadata": {},
     "output_type": "execute_result"
    }
   ],
   "source": [
    "top_10_category = df.groupby(['Category'])['Installs'].sum().sort_values(ascending=False).head(10)\n",
    "top_10_category"
   ]
  },
  {
   "cell_type": "code",
   "execution_count": 106,
   "id": "aa2a4cf9-afef-4236-b51f-0a8d64105c22",
   "metadata": {
    "tags": []
   },
   "outputs": [
    {
     "data": {
      "image/png": "[encoded data removed]",
      "text/plain": [
       "<Figure size 1400x1000 with 1 Axes>"
      ]
     },
     "metadata": {},
     "output_type": "display_data"
    }
   ],
   "source": [
    "plt.figure(figsize=(14,10))\n",
    "ax = sns.barplot(y = top_10_category.index , x = top_10_category.values)\n",
    "for c in ax.containers:\n",
    "    ax.bar_label(c,fmt='%.0f')\n",
    "plt.title('Top 10 Installed Categories')\n",
    "plt.xlabel(\"Installation\")\n",
    "plt.ylabel(\"Categories\")\n",
    "plt.show()"
   ]
  },
  {
   "cell_type": "markdown",
   "id": "2c3c9682-8700-436b-b992-311cee0e6d50",
   "metadata": {},
   "source": [
    "### 2. What are the 10 Categories in playstore as per the count?"
   ]
  },
  {
   "cell_type": "code",
   "execution_count": 95,
   "id": "6c9fff05-7ab0-4acf-9f2a-e97d38e881af",
   "metadata": {
    "tags": []
   },
   "outputs": [
    {
     "data": {
      "text/plain": [
       "Education            241068\n",
       "Music & Audio        154897\n",
       "Tools                143971\n",
       "Business             143749\n",
       "Entertainment        138261\n",
       "Lifestyle            118321\n",
       "Books & Reference    116716\n",
       "Personalization       89207\n",
       "Health & Fitness      83497\n",
       "Productivity          79681\n",
       "Name: Category, dtype: int64"
      ]
     },
     "execution_count": 95,
     "metadata": {},
     "output_type": "execute_result"
    }
   ],
   "source": [
    "top_10_category = df['Category'].value_counts().head(10)\n",
    "top_10_category"
   ]
  },
  {
   "cell_type": "code",
   "execution_count": 100,
   "id": "a63701b1-b385-4724-bbf2-d5c02b367787",
   "metadata": {
    "tags": []
   },
   "outputs": [
    {
     "data": {
      "image/png": "[encoded data removed]",
      "text/plain": [
       "<Figure size 1400x1000 with 1 Axes>"
      ]
     },
     "metadata": {},
     "output_type": "display_data"
    }
   ],
   "source": [
    "plt.figure(figsize=(14,10))\n",
    "ax = sns.barplot(y = top_10_category.index , x = top_10_category.values)\n",
    "for c in ax.containers:\n",
    "    ax.bar_label(c)\n",
    "plt.title('Top 10 Categories')\n",
    "plt.xlabel(\"Count\")\n",
    "plt.ylabel(\"Categories\")\n",
    "plt.show()"
   ]
  },
  {
   "cell_type": "code",
   "execution_count": null,
   "id": "dadf7875-d8b6-470d-a2cb-dfbbc1b8342f",
   "metadata": {},
   "outputs": [],
   "source": []
  }
 ],
 "metadata": {
  "kernelspec": {
   "display_name": "Python 3 (ipykernel)",
   "language": "python",
   "name": "python3"
  },
  "language_info": {
   "codemirror_mode": {
    "name": "ipython",
    "version": 3
   },
   "file_extension": ".py",
   "mimetype": "text/x-python",
   "name": "python",
   "nbconvert_exporter": "python",
   "pygments_lexer": "ipython3",
   "version": "3.10.10"
  }
 },
 "nbformat": 4,
 "nbformat_minor": 5
}
